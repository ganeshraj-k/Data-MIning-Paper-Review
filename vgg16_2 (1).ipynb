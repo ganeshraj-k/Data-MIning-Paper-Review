{
  "cells": [
    {
      "cell_type": "code",
      "execution_count": null,
      "metadata": {
        "id": "oqCYPm_npZvV"
      },
      "outputs": [],
      "source": [
        "from tensorflow.keras.applications import VGG16\n",
        "from tensorflow.keras import models, layers\n",
        "# initializing model with weights='imagenet'i.e. we are carring its original weights\n",
        "import tensorflow as tf\n",
        "import numpy as np\n",
        "from keras.datasets import fashion_mnist\n",
        "from keras.utils import to_categorical\n",
        "from keras.layers.core import Activation\n",
        "from keras.layers import Dropout\n",
        "tf.config.experimental_run_functions_eagerly(True)\n",
        "from keras.preprocessing.image import ImageDataGenerator\n",
        "import matplotlib.pyplot as plt"
      ]
    },
    {
      "cell_type": "code",
      "execution_count": null,
      "metadata": {
        "id": "-xz0rmqNHzFo"
      },
      "outputs": [],
      "source": [
        "model = VGG16(weights='imagenet',\n",
        "                  include_top=False,\n",
        "                  input_shape=(32, 32, 3) )"
      ]
    },
    {
      "cell_type": "code",
      "source": [
        "\n",
        "(x_train, trainy), (x_test, testy) = fashion_mnist.load_data()\n",
        "\n",
        "# expand new axis, channel axis\n",
        "x_train = np.expand_dims(x_train, axis=-1)\n",
        "\n",
        "# [optional]: we may need 3 channel (instead of 1)\n",
        "x_train = np.repeat(x_train, 3, axis=-1)\n",
        "\n",
        "# it's always better to normalize\n",
        "x_train = x_train.astype('float32') / 255\n",
        "\n",
        "# resize the input shape , i.e. old shape: 28, new shape: 32\n",
        "x_train = tf.image.resize(x_train, [32,32]) # if we want to resize\n",
        "\n",
        "print(x_train.shape)\n",
        "# (60000, 32, 32, 3)\n",
        "\n",
        "\n",
        "# expand new axis, channel axis\n",
        "x_test = np.expand_dims(x_test, axis=-1)\n",
        "\n",
        "# [optional]: we may need 3 channel (instead of 1)\n",
        "x_test = np.repeat(x_test, 3, axis=-1)\n",
        "\n",
        "# it's always better to normalize\n",
        "x_test = x_test.astype('float32') / 255\n",
        "\n",
        "# resize the input shape , i.e. old shape: 28, new shape: 32\n",
        "x_test = tf.image.resize(x_test, [32,32]) # if we want to resize\n",
        "\n",
        "print(x_test.shape)\n",
        "# (60000, 32, 32, 3)\n",
        "\n",
        "\n",
        "# one hot encode target values\n",
        "trainy = to_categorical(trainy)\n",
        "testy = to_categorical(testy)\n"
      ],
      "metadata": {
        "colab": {
          "base_uri": "https://localhost:8080/"
        },
        "id": "n_jQ_682rX88",
        "outputId": "3e0bb99e-318d-4e49-e9ad-578d55341c8c"
      },
      "execution_count": null,
      "outputs": [
        {
          "output_type": "stream",
          "name": "stdout",
          "text": [
            "(60000, 32, 32, 3)\n",
            "(10000, 32, 32, 3)\n"
          ]
        }
      ]
    },
    {
      "cell_type": "code",
      "execution_count": null,
      "metadata": {
        "colab": {
          "base_uri": "https://localhost:8080/"
        },
        "id": "P9GMBEU2plPk",
        "outputId": "e44e831d-4498-432f-d181-e4ec47d8436e"
      },
      "outputs": [
        {
          "output_type": "stream",
          "name": "stdout",
          "text": [
            "Model: \"vgg16\"\n",
            "_________________________________________________________________\n",
            " Layer (type)                Output Shape              Param #   \n",
            "=================================================================\n",
            " input_5 (InputLayer)        [(None, 32, 32, 3)]       0         \n",
            "                                                                 \n",
            " block1_conv1 (Conv2D)       (None, 32, 32, 64)        1792      \n",
            "                                                                 \n",
            " block1_conv2 (Conv2D)       (None, 32, 32, 64)        36928     \n",
            "                                                                 \n",
            " block1_pool (MaxPooling2D)  (None, 16, 16, 64)        0         \n",
            "                                                                 \n",
            " block2_conv1 (Conv2D)       (None, 16, 16, 128)       73856     \n",
            "                                                                 \n",
            " block2_conv2 (Conv2D)       (None, 16, 16, 128)       147584    \n",
            "                                                                 \n",
            " block2_pool (MaxPooling2D)  (None, 8, 8, 128)         0         \n",
            "                                                                 \n",
            " block3_conv1 (Conv2D)       (None, 8, 8, 256)         295168    \n",
            "                                                                 \n",
            " block3_conv2 (Conv2D)       (None, 8, 8, 256)         590080    \n",
            "                                                                 \n",
            " block3_conv3 (Conv2D)       (None, 8, 8, 256)         590080    \n",
            "                                                                 \n",
            " block3_pool (MaxPooling2D)  (None, 4, 4, 256)         0         \n",
            "                                                                 \n",
            " block4_conv1 (Conv2D)       (None, 4, 4, 512)         1180160   \n",
            "                                                                 \n",
            " block4_conv2 (Conv2D)       (None, 4, 4, 512)         2359808   \n",
            "                                                                 \n",
            " block4_conv3 (Conv2D)       (None, 4, 4, 512)         2359808   \n",
            "                                                                 \n",
            " block4_pool (MaxPooling2D)  (None, 2, 2, 512)         0         \n",
            "                                                                 \n",
            " block5_conv1 (Conv2D)       (None, 2, 2, 512)         2359808   \n",
            "                                                                 \n",
            " block5_conv2 (Conv2D)       (None, 2, 2, 512)         2359808   \n",
            "                                                                 \n",
            " block5_conv3 (Conv2D)       (None, 2, 2, 512)         2359808   \n",
            "                                                                 \n",
            " block5_pool (MaxPooling2D)  (None, 1, 1, 512)         0         \n",
            "                                                                 \n",
            "=================================================================\n",
            "Total params: 14,714,688\n",
            "Trainable params: 14,714,688\n",
            "Non-trainable params: 0\n",
            "_________________________________________________________________\n",
            "Summary of Custom VGG16 model.\n",
            "\n",
            "1) We flatten the last layer and added 1 Dense layer and 1 output layer.\n",
            "\n",
            "Model: \"model_1\"\n",
            "_________________________________________________________________\n",
            " Layer (type)                Output Shape              Param #   \n",
            "=================================================================\n",
            " input_5 (InputLayer)        [(None, 32, 32, 3)]       0         \n",
            "                                                                 \n",
            " block1_conv1 (Conv2D)       (None, 32, 32, 64)        1792      \n",
            "                                                                 \n",
            " block1_conv2 (Conv2D)       (None, 32, 32, 64)        36928     \n",
            "                                                                 \n",
            " block1_pool (MaxPooling2D)  (None, 16, 16, 64)        0         \n",
            "                                                                 \n",
            " block2_conv1 (Conv2D)       (None, 16, 16, 128)       73856     \n",
            "                                                                 \n",
            " block2_conv2 (Conv2D)       (None, 16, 16, 128)       147584    \n",
            "                                                                 \n",
            " block2_pool (MaxPooling2D)  (None, 8, 8, 128)         0         \n",
            "                                                                 \n",
            " block3_conv1 (Conv2D)       (None, 8, 8, 256)         295168    \n",
            "                                                                 \n",
            " block3_conv2 (Conv2D)       (None, 8, 8, 256)         590080    \n",
            "                                                                 \n",
            " block3_conv3 (Conv2D)       (None, 8, 8, 256)         590080    \n",
            "                                                                 \n",
            " block3_pool (MaxPooling2D)  (None, 4, 4, 256)         0         \n",
            "                                                                 \n",
            " block4_conv1 (Conv2D)       (None, 4, 4, 512)         1180160   \n",
            "                                                                 \n",
            " block4_conv2 (Conv2D)       (None, 4, 4, 512)         2359808   \n",
            "                                                                 \n",
            " block4_conv3 (Conv2D)       (None, 4, 4, 512)         2359808   \n",
            "                                                                 \n",
            " block4_pool (MaxPooling2D)  (None, 2, 2, 512)         0         \n",
            "                                                                 \n",
            " block5_conv1 (Conv2D)       (None, 2, 2, 512)         2359808   \n",
            "                                                                 \n",
            " block5_conv2 (Conv2D)       (None, 2, 2, 512)         2359808   \n",
            "                                                                 \n",
            " block5_conv3 (Conv2D)       (None, 2, 2, 512)         2359808   \n",
            "                                                                 \n",
            " block5_pool (MaxPooling2D)  (None, 1, 1, 512)         0         \n",
            "                                                                 \n",
            " flatten_2 (Flatten)         (None, 512)               0         \n",
            "                                                                 \n",
            " dense_8 (Dense)             (None, 10)                5130      \n",
            "                                                                 \n",
            "=================================================================\n",
            "Total params: 14,719,818\n",
            "Trainable params: 14,719,818\n",
            "Non-trainable params: 0\n",
            "_________________________________________________________________\n"
          ]
        }
      ],
      "source": [
        "\n",
        "\n",
        "# data_augmentation = layers.experimental.preprocessing.RandomFlip(\"horizontal\")(dense2)\n",
        "\n",
        "# Add data augmentation layer\n",
        "\n",
        "\n",
        "input_layer=layers.Input(shape=(32,32,3))\n",
        "\n",
        "# initialize the transfer model VGG16 with appropriate properties per our need.\n",
        "# we are passing paramers as following\n",
        "# 1) weights='imagenet' - Using this we are carring weights as of original weights.\n",
        "# 2) input_tensor to pass the VGG16 using input_tensor\n",
        "# 3) we want to change the last layer so we are not including top layer\n",
        "model_vgg16=VGG16(weights='imagenet',input_tensor=input_layer,include_top=False)\n",
        "\n",
        "# See the summary of the model with our properties.\n",
        "model_vgg16.summary()\n",
        "print(\"Summary of Custom VGG16 model.\\n\")\n",
        "print(\"1) We flatten the last layer and added 1 Dense layer and 1 output layer.\\n\")\n",
        "\n",
        "last_layer=model_vgg16.output # we are taking last layer of the model\n",
        "\n",
        "# Add flatten layer: we are extending Neural Network by adding flattn layer\n",
        "flatten=layers.Flatten()(last_layer)\n",
        "\n",
        "# Add dense layer\n",
        "dense1=layers.Dense(50,activation='relu')(flatten)\n",
        "#dropout_layer2 = layers.Dropout(0.65)(dense1)\n",
        "dense1=layers.Dense(50,activation='relu' )(flatten)\n",
        "\n",
        "#dropout_layer = layers.Dropout(0.65)(dense2)\n",
        "\n",
        "# Add dense layer to the final output layer\n",
        "output_layer=layers.Dense(10,activation='softmax')(flatten)\n",
        "\n",
        "final_layer = Activation('softmax')(flatten)\n",
        "# Creating modle with input and output layer\n",
        "model=models.Model(inputs=input_layer , outputs=output_layer)\n",
        "\n",
        "# Summarize the model\n",
        "model.summary()\n",
        "\n"
      ]
    },
    {
      "cell_type": "code",
      "execution_count": null,
      "metadata": {
        "colab": {
          "base_uri": "https://localhost:8080/"
        },
        "id": "aSjGLoRGqtGP",
        "outputId": "46cb4786-d719-4184-83a3-886c97501169"
      },
      "outputs": [
        {
          "output_type": "stream",
          "name": "stdout",
          "text": [
            "Model compilation completed.\n",
            "Model: \"model_1\"\n",
            "_________________________________________________________________\n",
            " Layer (type)                Output Shape              Param #   \n",
            "=================================================================\n",
            " input_5 (InputLayer)        [(None, 32, 32, 3)]       0         \n",
            "                                                                 \n",
            " block1_conv1 (Conv2D)       (None, 32, 32, 64)        1792      \n",
            "                                                                 \n",
            " block1_conv2 (Conv2D)       (None, 32, 32, 64)        36928     \n",
            "                                                                 \n",
            " block1_pool (MaxPooling2D)  (None, 16, 16, 64)        0         \n",
            "                                                                 \n",
            " block2_conv1 (Conv2D)       (None, 16, 16, 128)       73856     \n",
            "                                                                 \n",
            " block2_conv2 (Conv2D)       (None, 16, 16, 128)       147584    \n",
            "                                                                 \n",
            " block2_pool (MaxPooling2D)  (None, 8, 8, 128)         0         \n",
            "                                                                 \n",
            " block3_conv1 (Conv2D)       (None, 8, 8, 256)         295168    \n",
            "                                                                 \n",
            " block3_conv2 (Conv2D)       (None, 8, 8, 256)         590080    \n",
            "                                                                 \n",
            " block3_conv3 (Conv2D)       (None, 8, 8, 256)         590080    \n",
            "                                                                 \n",
            " block3_pool (MaxPooling2D)  (None, 4, 4, 256)         0         \n",
            "                                                                 \n",
            " block4_conv1 (Conv2D)       (None, 4, 4, 512)         1180160   \n",
            "                                                                 \n",
            " block4_conv2 (Conv2D)       (None, 4, 4, 512)         2359808   \n",
            "                                                                 \n",
            " block4_conv3 (Conv2D)       (None, 4, 4, 512)         2359808   \n",
            "                                                                 \n",
            " block4_pool (MaxPooling2D)  (None, 2, 2, 512)         0         \n",
            "                                                                 \n",
            " block5_conv1 (Conv2D)       (None, 2, 2, 512)         2359808   \n",
            "                                                                 \n",
            " block5_conv2 (Conv2D)       (None, 2, 2, 512)         2359808   \n",
            "                                                                 \n",
            " block5_conv3 (Conv2D)       (None, 2, 2, 512)         2359808   \n",
            "                                                                 \n",
            " block5_pool (MaxPooling2D)  (None, 1, 1, 512)         0         \n",
            "                                                                 \n",
            " flatten_2 (Flatten)         (None, 512)               0         \n",
            "                                                                 \n",
            " dense_8 (Dense)             (None, 10)                5130      \n",
            "                                                                 \n",
            "=================================================================\n",
            "Total params: 14,719,818\n",
            "Trainable params: 14,719,818\n",
            "Non-trainable params: 0\n",
            "_________________________________________________________________\n"
          ]
        }
      ],
      "source": [
        "model.compile(loss='categorical_crossentropy', optimizer='adam',metrics=['accuracy'])\n",
        "\n",
        "print(\"Model compilation completed.\")\n",
        "model.summary()"
      ]
    },
    {
      "cell_type": "code",
      "execution_count": null,
      "metadata": {
        "id": "IZkoYYkCsRok"
      },
      "outputs": [],
      "source": []
    },
    {
      "cell_type": "code",
      "execution_count": null,
      "metadata": {
        "colab": {
          "base_uri": "https://localhost:8080/"
        },
        "id": "TIaBske9IH0z",
        "outputId": "ac4e94ee-78a1-496d-cefe-16dcb6ce5af9"
      },
      "outputs": [
        {
          "output_type": "stream",
          "name": "stderr",
          "text": [
            "/usr/local/lib/python3.10/dist-packages/tensorflow/python/data/ops/structured_function.py:254: UserWarning: Even though the `tf.config.experimental_run_functions_eagerly` option is set, this option does not apply to tf.data functions. To force eager execution of tf.data functions, please use `tf.data.experimental.enable_debug_mode()`.\n",
            "  warnings.warn(\n"
          ]
        },
        {
          "output_type": "stream",
          "name": "stdout",
          "text": [
            "Epoch 1/20\n",
            "469/469 [==============================] - 57s 121ms/step - loss: 0.9505 - accuracy: 0.6646 - val_loss: 0.4312 - val_accuracy: 0.8422\n",
            "Epoch 2/20\n",
            "469/469 [==============================] - 58s 123ms/step - loss: 0.3386 - accuracy: 0.8793 - val_loss: 0.3013 - val_accuracy: 0.8924\n",
            "Epoch 3/20\n",
            "469/469 [==============================] - 54s 116ms/step - loss: 0.2641 - accuracy: 0.9046 - val_loss: 0.2897 - val_accuracy: 0.8976\n",
            "Epoch 4/20\n",
            "469/469 [==============================] - 56s 120ms/step - loss: 0.2326 - accuracy: 0.9160 - val_loss: 0.2481 - val_accuracy: 0.9116\n",
            "Epoch 5/20\n",
            "469/469 [==============================] - 55s 117ms/step - loss: 0.2063 - accuracy: 0.9276 - val_loss: 0.2308 - val_accuracy: 0.9185\n",
            "Epoch 6/20\n",
            "469/469 [==============================] - 55s 116ms/step - loss: 0.1892 - accuracy: 0.9316 - val_loss: 0.2471 - val_accuracy: 0.9143\n",
            "Epoch 7/20\n",
            "469/469 [==============================] - 55s 118ms/step - loss: 0.1768 - accuracy: 0.9363 - val_loss: 0.2353 - val_accuracy: 0.9197\n",
            "Epoch 8/20\n",
            "469/469 [==============================] - 55s 117ms/step - loss: 0.1604 - accuracy: 0.9441 - val_loss: 0.2333 - val_accuracy: 0.9203\n",
            "Epoch 9/20\n",
            "469/469 [==============================] - 56s 119ms/step - loss: 0.1500 - accuracy: 0.9471 - val_loss: 0.2324 - val_accuracy: 0.9214\n",
            "Epoch 10/20\n",
            "469/469 [==============================] - 55s 117ms/step - loss: 0.1360 - accuracy: 0.9518 - val_loss: 0.2675 - val_accuracy: 0.9153\n",
            "Epoch 11/20\n",
            "469/469 [==============================] - 55s 117ms/step - loss: 0.1288 - accuracy: 0.9556 - val_loss: 0.2606 - val_accuracy: 0.9192\n",
            "Epoch 12/20\n",
            "469/469 [==============================] - 55s 117ms/step - loss: 0.1203 - accuracy: 0.9574 - val_loss: 0.2505 - val_accuracy: 0.9245\n",
            "Epoch 13/20\n",
            "469/469 [==============================] - 56s 119ms/step - loss: 0.1124 - accuracy: 0.9604 - val_loss: 0.2860 - val_accuracy: 0.9209\n",
            "Epoch 14/20\n",
            "469/469 [==============================] - 56s 119ms/step - loss: 0.1007 - accuracy: 0.9661 - val_loss: 0.2740 - val_accuracy: 0.9216\n",
            "Epoch 15/20\n",
            "469/469 [==============================] - 55s 117ms/step - loss: 0.0886 - accuracy: 0.9696 - val_loss: 0.3041 - val_accuracy: 0.9236\n",
            "Epoch 16/20\n",
            "469/469 [==============================] - 55s 116ms/step - loss: 0.0916 - accuracy: 0.9699 - val_loss: 0.3020 - val_accuracy: 0.9219\n",
            "Epoch 17/20\n",
            "469/469 [==============================] - 55s 117ms/step - loss: 0.1144 - accuracy: 0.9622 - val_loss: 0.2726 - val_accuracy: 0.9255\n",
            "Epoch 18/20\n",
            "469/469 [==============================] - 56s 118ms/step - loss: 0.0809 - accuracy: 0.9730 - val_loss: 0.3057 - val_accuracy: 0.9256\n",
            "Epoch 19/20\n",
            "469/469 [==============================] - 56s 118ms/step - loss: 0.0668 - accuracy: 0.9782 - val_loss: 0.3051 - val_accuracy: 0.9229\n",
            "Epoch 20/20\n",
            "469/469 [==============================] - 55s 117ms/step - loss: 0.0763 - accuracy: 0.9755 - val_loss: 0.3246 - val_accuracy: 0.9226\n",
            "Fitting the model completed.\n"
          ]
        }
      ],
      "source": [
        "history = model.fit(x_train,trainy,epochs=20,batch_size=128,verbose=True, validation_data=(x_test, testy))\n",
        "\n",
        "print(\"Fitting the model completed.\")"
      ]
    },
    {
      "cell_type": "code",
      "source": [
        "# plot the loss and accuracy\n",
        "\n",
        "acc = history.history['accuracy']\n",
        "val_acc = history.history['val_accuracy']\n",
        "loss = history.history['loss']\n",
        "val_loss = history.history['val_loss']\n",
        "epochs = range(1, len(acc) + 1)\n",
        "\n",
        "plt.title('Training and validation accuracy')\n",
        "plt.plot(epochs, acc, 'red', label='Training acc')\n",
        "plt.plot(epochs, val_acc, 'blue', label='Validation acc')\n",
        "plt.legend()\n",
        "\n",
        "plt.figure()\n",
        "plt.title('Training and validation loss')\n",
        "plt.plot(epochs, loss, 'red', label='Training loss')\n",
        "plt.plot(epochs, val_loss, 'blue', label='Validation loss')\n",
        "\n",
        "plt.legend()\n",
        "\n",
        "plt.show()"
      ],
      "metadata": {
        "colab": {
          "base_uri": "https://localhost:8080/",
          "height": 887
        },
        "id": "j88yWWlari6V",
        "outputId": "e183e27f-af32-468f-97e9-1068fcb15eb7"
      },
      "execution_count": null,
      "outputs": [
        {
          "output_type": "display_data",
          "data": {
            "text/plain": [
              "<Figure size 640x480 with 1 Axes>"
            ],
            "image/png": "[encoded data removed]"
          },
          "metadata": {}
        },
        {
          "output_type": "display_data",
          "data": {
            "text/plain": [
              "<Figure size 640x480 with 1 Axes>"
            ],
            "image/png": "[encoded data removed]"
          },
          "metadata": {}
        }
      ]
    },
    {
      "cell_type": "code",
      "source": [
        "\n",
        "\n",
        "# data_augmentation = layers.experimental.preprocessing.RandomFlip(\"horizontal\")(dense2)\n",
        "\n",
        "# Add data augmentation layer\n",
        "\n",
        "\n",
        "input_layer=layers.Input(shape=(32,32,3))\n",
        "\n",
        "# initialize the transfer model VGG16 with appropriate properties per our need.\n",
        "# we are passing paramers as following\n",
        "# 1) weights='imagenet' - Using this we are carring weights as of original weights.\n",
        "# 2) input_tensor to pass the VGG16 using input_tensor\n",
        "# 3) we want to change the last layer so we are not including top layer\n",
        "model_vgg16=VGG16(weights='imagenet',input_tensor=input_layer,include_top=False)\n",
        "\n",
        "# See the summary of the model with our properties.\n",
        "model_vgg16.summary()\n",
        "print(\"Summary of Custom VGG16 model.\\n\")\n",
        "print(\"1) We flatten the last layer and added 1 Dense layer and 1 output layer.\\n\")\n",
        "\n",
        "last_layer=model_vgg16.output # we are taking last layer of the model\n",
        "\n",
        "# Add flatten layer: we are extending Neural Network by adding flattn layer\n",
        "flatten=layers.Flatten()(last_layer)\n",
        "\n",
        "# Add dense layer\n",
        "dense1=layers.Dense(50,activation='relu')(flatten)\n",
        "dropout_layer2 = layers.Dropout(0.50)(dense1)\n",
        "dense2=layers.Dense(50,activation='relu' )(dropout_layer2)\n",
        "\n",
        "\n",
        "\n",
        "# Add dense layer to the final output layer\n",
        "output_layer=layers.Dense(10,activation='softmax')(dense2)\n",
        "\n",
        "final_layer = Activation('softmax')(output_layer)\n",
        "# Creating modle with input and output layer\n",
        "model=models.Model(inputs=input_layer , outputs=output_layer)\n",
        "\n",
        "# Summarize the model\n",
        "model.summary()\n",
        "\n"
      ],
      "metadata": {
        "colab": {
          "base_uri": "https://localhost:8080/"
        },
        "id": "yqVhNoX8sYoy",
        "outputId": "5800afeb-9889-473e-fc6a-e0eacffe7077"
      },
      "execution_count": null,
      "outputs": [
        {
          "output_type": "stream",
          "name": "stdout",
          "text": [
            "Model: \"vgg16\"\n",
            "_________________________________________________________________\n",
            " Layer (type)                Output Shape              Param #   \n",
            "=================================================================\n",
            " input_9 (InputLayer)        [(None, 32, 32, 3)]       0         \n",
            "                                                                 \n",
            " block1_conv1 (Conv2D)       (None, 32, 32, 64)        1792      \n",
            "                                                                 \n",
            " block1_conv2 (Conv2D)       (None, 32, 32, 64)        36928     \n",
            "                                                                 \n",
            " block1_pool (MaxPooling2D)  (None, 16, 16, 64)        0         \n",
            "                                                                 \n",
            " block2_conv1 (Conv2D)       (None, 16, 16, 128)       73856     \n",
            "                                                                 \n",
            " block2_conv2 (Conv2D)       (None, 16, 16, 128)       147584    \n",
            "                                                                 \n",
            " block2_pool (MaxPooling2D)  (None, 8, 8, 128)         0         \n",
            "                                                                 \n",
            " block3_conv1 (Conv2D)       (None, 8, 8, 256)         295168    \n",
            "                                                                 \n",
            " block3_conv2 (Conv2D)       (None, 8, 8, 256)         590080    \n",
            "                                                                 \n",
            " block3_conv3 (Conv2D)       (None, 8, 8, 256)         590080    \n",
            "                                                                 \n",
            " block3_pool (MaxPooling2D)  (None, 4, 4, 256)         0         \n",
            "                                                                 \n",
            " block4_conv1 (Conv2D)       (None, 4, 4, 512)         1180160   \n",
            "                                                                 \n",
            " block4_conv2 (Conv2D)       (None, 4, 4, 512)         2359808   \n",
            "                                                                 \n",
            " block4_conv3 (Conv2D)       (None, 4, 4, 512)         2359808   \n",
            "                                                                 \n",
            " block4_pool (MaxPooling2D)  (None, 2, 2, 512)         0         \n",
            "                                                                 \n",
            " block5_conv1 (Conv2D)       (None, 2, 2, 512)         2359808   \n",
            "                                                                 \n",
            " block5_conv2 (Conv2D)       (None, 2, 2, 512)         2359808   \n",
            "                                                                 \n",
            " block5_conv3 (Conv2D)       (None, 2, 2, 512)         2359808   \n",
            "                                                                 \n",
            " block5_pool (MaxPooling2D)  (None, 1, 1, 512)         0         \n",
            "                                                                 \n",
            "=================================================================\n",
            "Total params: 14,714,688\n",
            "Trainable params: 14,714,688\n",
            "Non-trainable params: 0\n",
            "_________________________________________________________________\n",
            "Summary of Custom VGG16 model.\n",
            "\n",
            "1) We flatten the last layer and added 1 Dense layer and 1 output layer.\n",
            "\n",
            "Model: \"model_5\"\n",
            "_________________________________________________________________\n",
            " Layer (type)                Output Shape              Param #   \n",
            "=================================================================\n",
            " input_9 (InputLayer)        [(None, 32, 32, 3)]       0         \n",
            "                                                                 \n",
            " block1_conv1 (Conv2D)       (None, 32, 32, 64)        1792      \n",
            "                                                                 \n",
            " block1_conv2 (Conv2D)       (None, 32, 32, 64)        36928     \n",
            "                                                                 \n",
            " block1_pool (MaxPooling2D)  (None, 16, 16, 64)        0         \n",
            "                                                                 \n",
            " block2_conv1 (Conv2D)       (None, 16, 16, 128)       73856     \n",
            "                                                                 \n",
            " block2_conv2 (Conv2D)       (None, 16, 16, 128)       147584    \n",
            "                                                                 \n",
            " block2_pool (MaxPooling2D)  (None, 8, 8, 128)         0         \n",
            "                                                                 \n",
            " block3_conv1 (Conv2D)       (None, 8, 8, 256)         295168    \n",
            "                                                                 \n",
            " block3_conv2 (Conv2D)       (None, 8, 8, 256)         590080    \n",
            "                                                                 \n",
            " block3_conv3 (Conv2D)       (None, 8, 8, 256)         590080    \n",
            "                                                                 \n",
            " block3_pool (MaxPooling2D)  (None, 4, 4, 256)         0         \n",
            "                                                                 \n",
            " block4_conv1 (Conv2D)       (None, 4, 4, 512)         1180160   \n",
            "                                                                 \n",
            " block4_conv2 (Conv2D)       (None, 4, 4, 512)         2359808   \n",
            "                                                                 \n",
            " block4_conv3 (Conv2D)       (None, 4, 4, 512)         2359808   \n",
            "                                                                 \n",
            " block4_pool (MaxPooling2D)  (None, 2, 2, 512)         0         \n",
            "                                                                 \n",
            " block5_conv1 (Conv2D)       (None, 2, 2, 512)         2359808   \n",
            "                                                                 \n",
            " block5_conv2 (Conv2D)       (None, 2, 2, 512)         2359808   \n",
            "                                                                 \n",
            " block5_conv3 (Conv2D)       (None, 2, 2, 512)         2359808   \n",
            "                                                                 \n",
            " block5_pool (MaxPooling2D)  (None, 1, 1, 512)         0         \n",
            "                                                                 \n",
            " flatten_6 (Flatten)         (None, 512)               0         \n",
            "                                                                 \n",
            " dense_18 (Dense)            (None, 50)                25650     \n",
            "                                                                 \n",
            " dropout_4 (Dropout)         (None, 50)                0         \n",
            "                                                                 \n",
            " dense_19 (Dense)            (None, 50)                2550      \n",
            "                                                                 \n",
            " dense_20 (Dense)            (None, 10)                510       \n",
            "                                                                 \n",
            "=================================================================\n",
            "Total params: 14,743,398\n",
            "Trainable params: 14,743,398\n",
            "Non-trainable params: 0\n",
            "_________________________________________________________________\n"
          ]
        }
      ]
    },
    {
      "cell_type": "code",
      "source": [
        "model.compile(loss='categorical_crossentropy', optimizer='adam',metrics=['accuracy'])\n",
        "\n",
        "print(\"Model compilation completed.\")\n",
        "model.summary()"
      ],
      "metadata": {
        "colab": {
          "base_uri": "https://localhost:8080/"
        },
        "id": "wc9mToPfs5VB",
        "outputId": "e5fd6b1c-e02b-421b-e3fe-d45b7e718524"
      },
      "execution_count": null,
      "outputs": [
        {
          "output_type": "stream",
          "name": "stdout",
          "text": [
            "Model compilation completed.\n",
            "Model: \"model_5\"\n",
            "_________________________________________________________________\n",
            " Layer (type)                Output Shape              Param #   \n",
            "=================================================================\n",
            " input_9 (InputLayer)        [(None, 32, 32, 3)]       0         \n",
            "                                                                 \n",
            " block1_conv1 (Conv2D)       (None, 32, 32, 64)        1792      \n",
            "                                                                 \n",
            " block1_conv2 (Conv2D)       (None, 32, 32, 64)        36928     \n",
            "                                                                 \n",
            " block1_pool (MaxPooling2D)  (None, 16, 16, 64)        0         \n",
            "                                                                 \n",
            " block2_conv1 (Conv2D)       (None, 16, 16, 128)       73856     \n",
            "                                                                 \n",
            " block2_conv2 (Conv2D)       (None, 16, 16, 128)       147584    \n",
            "                                                                 \n",
            " block2_pool (MaxPooling2D)  (None, 8, 8, 128)         0         \n",
            "                                                                 \n",
            " block3_conv1 (Conv2D)       (None, 8, 8, 256)         295168    \n",
            "                                                                 \n",
            " block3_conv2 (Conv2D)       (None, 8, 8, 256)         590080    \n",
            "                                                                 \n",
            " block3_conv3 (Conv2D)       (None, 8, 8, 256)         590080    \n",
            "                                                                 \n",
            " block3_pool (MaxPooling2D)  (None, 4, 4, 256)         0         \n",
            "                                                                 \n",
            " block4_conv1 (Conv2D)       (None, 4, 4, 512)         1180160   \n",
            "                                                                 \n",
            " block4_conv2 (Conv2D)       (None, 4, 4, 512)         2359808   \n",
            "                                                                 \n",
            " block4_conv3 (Conv2D)       (None, 4, 4, 512)         2359808   \n",
            "                                                                 \n",
            " block4_pool (MaxPooling2D)  (None, 2, 2, 512)         0         \n",
            "                                                                 \n",
            " block5_conv1 (Conv2D)       (None, 2, 2, 512)         2359808   \n",
            "                                                                 \n",
            " block5_conv2 (Conv2D)       (None, 2, 2, 512)         2359808   \n",
            "                                                                 \n",
            " block5_conv3 (Conv2D)       (None, 2, 2, 512)         2359808   \n",
            "                                                                 \n",
            " block5_pool (MaxPooling2D)  (None, 1, 1, 512)         0         \n",
            "                                                                 \n",
            " flatten_6 (Flatten)         (None, 512)               0         \n",
            "                                                                 \n",
            " dense_18 (Dense)            (None, 50)                25650     \n",
            "                                                                 \n",
            " dropout_4 (Dropout)         (None, 50)                0         \n",
            "                                                                 \n",
            " dense_19 (Dense)            (None, 50)                2550      \n",
            "                                                                 \n",
            " dense_20 (Dense)            (None, 10)                510       \n",
            "                                                                 \n",
            "=================================================================\n",
            "Total params: 14,743,398\n",
            "Trainable params: 14,743,398\n",
            "Non-trainable params: 0\n",
            "_________________________________________________________________\n"
          ]
        }
      ]
    },
    {
      "cell_type": "code",
      "source": [
        "history = model.fit(x_train,trainy,epochs=20,batch_size=128,verbose=True, validation_data=(x_test, testy))\n",
        "\n",
        "print(\"Fitting the model completed.\")"
      ],
      "metadata": {
        "colab": {
          "base_uri": "https://localhost:8080/"
        },
        "id": "1axJTf3ws9Af",
        "outputId": "27bc5a42-31c6-415e-b38d-986955f4161a"
      },
      "execution_count": null,
      "outputs": [
        {
          "output_type": "stream",
          "name": "stdout",
          "text": [
            "Epoch 1/20\n",
            "469/469 [==============================] - 62s 132ms/step - loss: 1.3597 - accuracy: 0.4915 - val_loss: 0.6039 - val_accuracy: 0.7589\n",
            "Epoch 2/20\n",
            "469/469 [==============================] - 61s 129ms/step - loss: 0.6426 - accuracy: 0.7561 - val_loss: 0.5091 - val_accuracy: 0.7908\n",
            "Epoch 3/20\n",
            "469/469 [==============================] - 62s 132ms/step - loss: 0.5117 - accuracy: 0.8227 - val_loss: 0.3885 - val_accuracy: 0.8826\n",
            "Epoch 4/20\n",
            "469/469 [==============================] - 61s 131ms/step - loss: 0.4268 - accuracy: 0.8576 - val_loss: 0.2913 - val_accuracy: 0.9008\n",
            "Epoch 5/20\n",
            "469/469 [==============================] - 60s 129ms/step - loss: 0.3851 - accuracy: 0.8680 - val_loss: 0.3729 - val_accuracy: 0.8872\n",
            "Epoch 6/20\n",
            "469/469 [==============================] - 61s 129ms/step - loss: 0.3559 - accuracy: 0.8852 - val_loss: 0.3712 - val_accuracy: 0.8730\n",
            "Epoch 7/20\n",
            "469/469 [==============================] - 62s 132ms/step - loss: 0.3335 - accuracy: 0.8923 - val_loss: 0.3810 - val_accuracy: 0.8619\n",
            "Epoch 8/20\n",
            "469/469 [==============================] - 61s 130ms/step - loss: 0.3056 - accuracy: 0.9018 - val_loss: 0.3396 - val_accuracy: 0.8924\n",
            "Epoch 9/20\n",
            "469/469 [==============================] - 63s 134ms/step - loss: 0.2956 - accuracy: 0.9063 - val_loss: 0.3042 - val_accuracy: 0.9074\n",
            "Epoch 10/20\n",
            "469/469 [==============================] - 62s 133ms/step - loss: 0.2636 - accuracy: 0.9160 - val_loss: 0.2653 - val_accuracy: 0.9176\n",
            "Epoch 11/20\n",
            "469/469 [==============================] - 61s 130ms/step - loss: 0.2406 - accuracy: 0.9222 - val_loss: 0.2995 - val_accuracy: 0.8981\n",
            "Epoch 12/20\n",
            "469/469 [==============================] - 61s 130ms/step - loss: 0.2381 - accuracy: 0.9237 - val_loss: 0.3600 - val_accuracy: 0.8742\n",
            "Epoch 13/20\n",
            "469/469 [==============================] - 61s 131ms/step - loss: 0.2340 - accuracy: 0.9250 - val_loss: 0.2884 - val_accuracy: 0.9129\n",
            "Epoch 14/20\n",
            "469/469 [==============================] - 62s 133ms/step - loss: 0.2241 - accuracy: 0.9291 - val_loss: 0.2729 - val_accuracy: 0.9191\n",
            "Epoch 15/20\n",
            "469/469 [==============================] - 61s 130ms/step - loss: 0.2046 - accuracy: 0.9356 - val_loss: 0.3026 - val_accuracy: 0.9110\n",
            "Epoch 16/20\n",
            "469/469 [==============================] - 62s 131ms/step - loss: 0.2066 - accuracy: 0.9337 - val_loss: 0.2662 - val_accuracy: 0.9218\n",
            "Epoch 17/20\n",
            "469/469 [==============================] - 61s 130ms/step - loss: 0.1816 - accuracy: 0.9424 - val_loss: 0.3855 - val_accuracy: 0.8877\n",
            "Epoch 18/20\n",
            "469/469 [==============================] - 61s 131ms/step - loss: 0.1924 - accuracy: 0.9383 - val_loss: 0.2637 - val_accuracy: 0.9156\n",
            "Epoch 19/20\n",
            "469/469 [==============================] - 62s 133ms/step - loss: 0.1563 - accuracy: 0.9494 - val_loss: 0.3491 - val_accuracy: 0.9174\n",
            "Epoch 20/20\n",
            "469/469 [==============================] - 62s 131ms/step - loss: 0.1623 - accuracy: 0.9472 - val_loss: 0.3184 - val_accuracy: 0.9181\n",
            "Fitting the model completed.\n"
          ]
        }
      ]
    },
    {
      "cell_type": "code",
      "source": [
        "# plot the loss and accuracy\n",
        "\n",
        "acc = history.history['accuracy']\n",
        "val_acc = history.history['val_accuracy']\n",
        "loss = history.history['loss']\n",
        "val_loss = history.history['val_loss']\n",
        "epochs = range(1, len(acc) + 1)\n",
        "\n",
        "plt.title('Training and validation accuracy')\n",
        "plt.plot(epochs, acc, 'red', label='Training acc')\n",
        "plt.plot(epochs, val_acc, 'blue', label='Validation acc')\n",
        "plt.legend()\n",
        "\n",
        "plt.figure()\n",
        "plt.title('Training and validation loss')\n",
        "plt.plot(epochs, loss, 'red', label='Training loss')\n",
        "plt.plot(epochs, val_loss, 'blue', label='Validation loss')\n",
        "\n",
        "plt.legend()\n",
        "\n",
        "plt.show()"
      ],
      "metadata": {
        "colab": {
          "base_uri": "https://localhost:8080/",
          "height": 887
        },
        "id": "GcNGjA3As9zH",
        "outputId": "c03ae8ea-ef04-4ee7-eb84-f375d2eb65e6"
      },
      "execution_count": null,
      "outputs": [
        {
          "output_type": "display_data",
          "data": {
            "text/plain": [
              "<Figure size 640x480 with 1 Axes>"
            ],
            "image/png": "[encoded data removed]"
          },
          "metadata": {}
        },
        {
          "output_type": "display_data",
          "data": {
            "text/plain": [
              "<Figure size 640x480 with 1 Axes>"
            ],
            "image/png": "[encoded data removed]"
          },
          "metadata": {}
        }
      ]
    },
    {
      "cell_type": "code",
      "source": [
        "\n",
        "\n",
        "# data_augmentation = layers.experimental.preprocessing.RandomFlip(\"horizontal\")(dense2)\n",
        "\n",
        "# Add data augmentation layer\n",
        "\n",
        "\n",
        "input_layer=layers.Input(shape=(32,32,3))\n",
        "\n",
        "# initialize the transfer model VGG16 with appropriate properties per our need.\n",
        "# we are passing paramers as following\n",
        "# 1) weights='imagenet' - Using this we are carring weights as of original weights.\n",
        "# 2) input_tensor to pass the VGG16 using input_tensor\n",
        "# 3) we want to change the last layer so we are not including top layer\n",
        "model_vgg16=VGG16(weights='imagenet',input_tensor=input_layer,include_top=False)\n",
        "\n",
        "# See the summary of the model with our properties.\n",
        "model_vgg16.summary()\n",
        "print(\"Summary of Custom VGG16 model.\\n\")\n",
        "print(\"1) We flatten the last layer and added 1 Dense layer and 1 output layer.\\n\")\n",
        "\n",
        "last_layer=model_vgg16.output # we are taking last layer of the model\n",
        "\n",
        "# Add flatten layer: we are extending Neural Network by adding flattn layer\n",
        "flatten=layers.Flatten()(last_layer)\n",
        "\n",
        "# Add dense layer\n",
        "dense1=layers.Dense(50,activation='relu', kernel_regularizer= tf.keras.regularizers.L2(0.01))(flatten)\n",
        "dropout_layer2 = layers.Dropout(0.50)(dense1)\n",
        "dense2=layers.Dense(50,activation='relu' )(dropout_layer2)\n",
        "\n",
        "\n",
        "\n",
        "# Add dense layer to the final output layer\n",
        "output_layer=layers.Dense(10,activation='softmax')(dense2)\n",
        "# Add dense layer to the final output layer\n",
        "output_layer=layers.Dense(10,activation='softmax' , kernel_regularizer= tf.keras.regularizers.L2(0.01))(dense2)\n",
        "\n",
        "final_layer = Activation('softmax')(flatten)\n",
        "# Creating modle with input and output layer\n",
        "model=models.Model(inputs=input_layer , outputs=output_layer)\n",
        "\n",
        "# Summarize the model\n",
        "model.summary()\n",
        "\n"
      ],
      "metadata": {
        "id": "WFi3sSg8tAqk"
      },
      "execution_count": null,
      "outputs": []
    },
    {
      "cell_type": "code",
      "source": [
        "model.compile(loss='categorical_crossentropy', optimizer='adam',metrics=['accuracy'])\n",
        "\n",
        "print(\"Model compilation completed.\")\n",
        "model.summary()"
      ],
      "metadata": {
        "id": "zjERAHd6uaOC"
      },
      "execution_count": null,
      "outputs": []
    },
    {
      "cell_type": "code",
      "source": [
        "history = model.fit(x_train,trainy,epochs=20,batch_size=128,verbose=True, validation_data=(x_test, testy))\n",
        "\n",
        "print(\"Fitting the model completed.\")"
      ],
      "metadata": {
        "id": "PuG3JnjOubLM"
      },
      "execution_count": null,
      "outputs": []
    },
    {
      "cell_type": "code",
      "source": [
        "# plot the loss and accuracy\n",
        "\n",
        "acc = history.history['acc']\n",
        "val_acc = history.history['val_acc']\n",
        "loss = history.history['loss']\n",
        "val_loss = history.history['val_loss']\n",
        "epochs = range(1, len(acc) + 1)\n",
        "\n",
        "plt.title('Training and validation accuracy')\n",
        "plt.plot(epochs, acc, 'red', label='Training acc')\n",
        "plt.plot(epochs, val_acc, 'blue', label='Validation acc')\n",
        "plt.legend()\n",
        "\n",
        "plt.figure()\n",
        "plt.title('Training and validation loss')\n",
        "plt.plot(epochs, loss, 'red', label='Training loss')\n",
        "plt.plot(epochs, val_loss, 'blue', label='Validation loss')\n",
        "\n",
        "plt.legend()\n",
        "\n",
        "plt.show()"
      ],
      "metadata": {
        "id": "WINcTe2hueKC"
      },
      "execution_count": null,
      "outputs": []
    }
  ],
  "metadata": {
    "accelerator": "GPU",
    "colab": {
      "provenance": [],
      "gpuType": "T4"
    },
    "gpuClass": "standard",
    "kernelspec": {
      "display_name": "Python 3",
      "name": "python3"
    },
    "language_info": {
      "name": "python"
    }
  },
  "nbformat": 4,
  "nbformat_minor": 0
}